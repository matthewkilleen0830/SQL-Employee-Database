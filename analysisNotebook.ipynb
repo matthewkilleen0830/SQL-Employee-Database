{
 "cells": [
  {
   "cell_type": "markdown",
   "metadata": {},
   "source": [
    "# Bonus:  Pewlett Hackard\n",
    "\n",
    "As you examine the data, you are overcome with a creeping suspicion that the dataset is fake. You surmise that your boss handed you spurious data in order to test the data engineering skills of a new employee. To confirm your hunch, you decide to take the following steps to generate a visualization of the data, with which you will confront your boss:\n",
    "1. Import the SQL database into Pandas.\n",
    "2. Create a histogram to visualize the most common salary ranges for employees.\n",
    "3. Create a bar chart of average salary by title."
   ]
  },
  {
   "cell_type": "code",
   "execution_count": null,
   "metadata": {},
   "outputs": [],
   "source": [
    "# Dependencies and setup\n",
    "import pandas as pd\n",
    "import matplotlib.pyplot as plt\n",
    "import numpy as np\n",
    "import os\n",
    "import scipy.stats as sts"
   ]
  },
  {
   "cell_type": "code",
   "execution_count": null,
   "metadata": {},
   "outputs": [],
   "source": [
    "# Import hidden info to access postgreSQL\n",
    "import psycopg2\n",
    "from config import (user, password, host, port, database)"
   ]
  },
  {
   "cell_type": "code",
   "execution_count": null,
   "metadata": {},
   "outputs": [],
   "source": [
    "# SQLAlchemy\n",
    "from sqlalchemy import create_engine\n",
    "\n",
    "# Create an engine that can talk to the database\n",
    "engine = create_engine(f'postgresql://{user}:{password}@{host}:{port}/{database}')\n",
    "connection = engine.connect()"
   ]
  },
  {
   "cell_type": "code",
   "execution_count": null,
   "metadata": {},
   "outputs": [],
   "source": [
    "# Read the necessary SQL tables into DataFrames\n",
    "employees_df = pd.read_sql_table(\"employees\", con = connection)\n",
    "salaries_df = pd.read_sql_table(\"salaries\", con = connection)\n",
    "titles_df = pd.read_sql_table(\"titles\", con = connection)"
   ]
  },
  {
   "cell_type": "code",
   "execution_count": null,
   "metadata": {},
   "outputs": [],
   "source": [
    "# Verify employees DataFrame\n",
    "employees_df.head()"
   ]
  },
  {
   "cell_type": "code",
   "execution_count": null,
   "metadata": {},
   "outputs": [],
   "source": [
    "# Verify salaries DataFrame\n",
    "salaries_df.head()"
   ]
  },
  {
   "cell_type": "code",
   "execution_count": null,
   "metadata": {},
   "outputs": [],
   "source": [
    "# Verify titles DataFrame\n",
    "titles_df.head()"
   ]
  },
  {
   "cell_type": "code",
   "execution_count": null,
   "metadata": {},
   "outputs": [],
   "source": [
    "# Create variable to retrieve and store salary data\n",
    "salaries = salaries_df[\"salary\"]\n",
    "salaries"
   ]
  },
  {
   "cell_type": "code",
   "execution_count": null,
   "metadata": {},
   "outputs": [],
   "source": [
    "# Define histogram plot size\n",
    "plt.figure(figsize = (18,10))\n",
    "\n",
    "# Pass values into histogram plot, and define color and transparency\n",
    "plt.hist(salaries, color = \"green\", alpha = 0.43)\n",
    "\n",
    "# Define histogram plot title, x label, and y label (and their font sizes)\n",
    "plt.title(\"Salary Ranges for Pewlett Hackard Employees\", fontsize = 18)\n",
    "plt.xlabel(\"Salary Range ($)\", fontsize = 14)\n",
    "plt.ylabel(\"Number of Employees\", fontsize = 14)\n",
    "\n",
    "# Print pyplot histogram plot to image file\n",
    "plt.savefig(\"salary_histogram.png\")\n",
    "\n",
    "plt.show()"
   ]
  },
  {
   "cell_type": "code",
   "execution_count": null,
   "metadata": {},
   "outputs": [],
   "source": [
    "# Rename column to merge on this column's values\n",
    "titles_df.rename(columns = {\"title_id\":\"emp_title\"}, inplace = True)\n",
    "titles_df.head()"
   ]
  },
  {
   "cell_type": "code",
   "execution_count": null,
   "metadata": {},
   "outputs": [],
   "source": [
    "# Merge employees and salaries DataFrames\n",
    "temp_merge = pd.merge(employees_df, salaries_df, how = \"inner\", left_on = \"emp_no\", right_on = \"emp_no\", on = None, sort = False,\n",
    "                      copy = True, indicator = False, validate = None)\n",
    "temp_merge"
   ]
  },
  {
   "cell_type": "code",
   "execution_count": null,
   "metadata": {},
   "outputs": [],
   "source": [
    "# Merge temp_merge and titles DataFrames\n",
    "total_merge = pd.merge(temp_merge, titles_df, how = \"inner\", left_on = \"emp_title\", right_on = \"emp_title\", on = None, sort = False,\n",
    "                       copy = True, indicator = False, validate = None)\n",
    "total_merge"
   ]
  },
  {
   "cell_type": "code",
   "execution_count": null,
   "metadata": {},
   "outputs": [],
   "source": [
    "# Drop irrelevant columns\n",
    "total_merge.drop(columns = [\"emp_no\", \"emp_title\", \"birth_date\", \"sex\", \"hire_date\"], inplace = True)\n",
    "total_merge.head()"
   ]
  },
  {
   "cell_type": "code",
   "execution_count": null,
   "metadata": {},
   "outputs": [],
   "source": [
    "# Group by title and calculate average salary by title\n",
    "salary_average = total_merge.groupby(\"title\").mean().round(2)\n",
    "salary_average"
   ]
  },
  {
   "cell_type": "code",
   "execution_count": null,
   "metadata": {},
   "outputs": [],
   "source": [
    "# Declare variables to retrieve and store values for plotting\n",
    "x = salary_average.index\n",
    "y = salary_average[\"salary\"]\n",
    "\n",
    "# Define bar plot size\n",
    "plt.figure(figsize = (18,10))\n",
    "\n",
    "# Pass values into bar plot, and define color and transparency\n",
    "plt.bar(x, y, color = \"green\", alpha = 0.43)\n",
    "\n",
    "# Define bar plot title, x label, and y label (and their font sizes)\n",
    "plt.title(\"Average Salary by Title for Pewlett Hackard Employees\", fontsize = 18)\n",
    "plt.xlabel(\"Job Title\", fontsize = 14)\n",
    "plt.ylabel(\"Annual Salary ($)\", fontsize = 14)\n",
    "\n",
    "# Print pyplot bar plot to image file\n",
    "plt.savefig(\"average_salaries_bar_plot.jpg\")\n",
    "\n",
    "plt.show()"
   ]
  },
  {
   "cell_type": "code",
   "execution_count": null,
   "metadata": {},
   "outputs": [],
   "source": []
  }
 ],
 "metadata": {
  "kernelspec": {
   "display_name": "Python 3",
   "language": "python",
   "name": "python3"
  },
  "language_info": {
   "codemirror_mode": {
    "name": "ipython",
    "version": 3
   },
   "file_extension": ".py",
   "mimetype": "text/x-python",
   "name": "python",
   "nbconvert_exporter": "python",
   "pygments_lexer": "ipython3",
   "version": "3.6.10"
  }
 },
 "nbformat": 4,
 "nbformat_minor": 4
}
